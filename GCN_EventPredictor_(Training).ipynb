{
  "nbformat": 4,
  "nbformat_minor": 0,
  "metadata": {
    "colab": {
      "name": "Copy of GCN_EventPredictor_(Training).ipynb",
      "provenance": [],
      "collapsed_sections": [],
      "mount_file_id": "1gTpMLI9kPRcrlZTjFtGSupG8MUh-Y7Qa",
      "authorship_tag": "ABX9TyOnGgK3BZicwp413bxn1npc",
      "include_colab_link": true
    },
    "kernelspec": {
      "name": "python3",
      "display_name": "Python 3"
    },
    "accelerator": "GPU"
  },
  "cells": [
    {
      "cell_type": "markdown",
      "metadata": {
        "id": "view-in-github",
        "colab_type": "text"
      },
      "source": [
        "<a href=\"https://colab.research.google.com/github/ishwarvenugopal/GCN-ProcessPrediction/blob/master/GCN_EventPredictor_(Training).ipynb\" target=\"_parent\"><img src=\"https://colab.research.google.com/assets/colab-badge.svg\" alt=\"Open In Colab\"/></a>"
      ]
    },
    {
      "cell_type": "markdown",
      "metadata": {
        "id": "xW0wmkGQYSNJ",
        "colab_type": "text"
      },
      "source": [
        "# Importing necessary packages and functions"
      ]
    },
    {
      "cell_type": "code",
      "metadata": {
        "id": "JoDejA1v8ju1",
        "colab_type": "code",
        "colab": {
          "base_uri": "https://localhost:8080/",
          "height": 1000
        },
        "outputId": "635fb5a9-e834-44ac-c2a9-c633c90b6fd6"
      },
      "source": [
        "!pip install pm4py\n",
        "!pip install torch-scatter==latest+cu101 -f https://pytorch-geometric.com/whl/torch-1.5.0.html\n",
        "!pip install torch-sparse==latest+cu101 -f https://pytorch-geometric.com/whl/torch-1.5.0.html\n",
        "!pip install torch-cluster==latest+cu101 -f https://pytorch-geometric.com/whl/torch-1.5.0.html\n",
        "!pip install torch-spline-conv==latest+cu101 -f https://pytorch-geometric.com/whl/torch-1.5.0.html\n",
        "!pip install torch-geometric"
      ],
      "execution_count": 8,
      "outputs": [
        {
          "output_type": "stream",
          "text": [
            "Collecting pm4py\n",
            "\u001b[?25l  Downloading https://files.pythonhosted.org/packages/1b/3d/28f5592abe66ebf47b3427bfa1f880a1d84400f88c5e78a1ad5de1abc410/pm4py-1.5.1-py3-none-any.whl (694kB)\n",
            "\u001b[K     |████████████████████████████████| 696kB 5.0MB/s \n",
            "\u001b[?25hRequirement already satisfied: pydotplus in /usr/local/lib/python3.6/dist-packages (from pm4py) (2.0.2)\n",
            "Requirement already satisfied: graphviz in /usr/local/lib/python3.6/dist-packages (from pm4py) (0.10.1)\n",
            "Requirement already satisfied: lxml in /usr/local/lib/python3.6/dist-packages (from pm4py) (4.2.6)\n",
            "Requirement already satisfied: matplotlib in /usr/local/lib/python3.6/dist-packages (from pm4py) (3.2.2)\n",
            "Collecting pulp<=2.1\n",
            "\u001b[?25l  Downloading https://files.pythonhosted.org/packages/41/34/757c88c320f80ce602199603afe63aed1e0bc11180b9a9fb6018fb2ce7ef/PuLP-2.1-py3-none-any.whl (40.6MB)\n",
            "\u001b[K     |████████████████████████████████| 40.6MB 74kB/s \n",
            "\u001b[?25hRequirement already satisfied: tqdm in /usr/local/lib/python3.6/dist-packages (from pm4py) (4.41.1)\n",
            "Requirement already satisfied: pytz in /usr/local/lib/python3.6/dist-packages (from pm4py) (2018.9)\n",
            "Collecting stringdist\n",
            "  Downloading https://files.pythonhosted.org/packages/85/f0/c56cbe92b4b06fbc7adaa81917ad34d7027834e166fff2d2db73961c67fa/StringDist-1.0.9.tar.gz\n",
            "Collecting jsonpickle\n",
            "  Downloading https://files.pythonhosted.org/packages/af/ca/4fee219cc4113a5635e348ad951cf8a2e47fed2e3342312493f5b73d0007/jsonpickle-1.4.1-py2.py3-none-any.whl\n",
            "Requirement already satisfied: scikit-learn in /usr/local/lib/python3.6/dist-packages (from pm4py) (0.22.2.post1)\n",
            "Collecting deprecation\n",
            "  Downloading https://files.pythonhosted.org/packages/02/c3/253a89ee03fc9b9682f1541728eb66db7db22148cd94f89ab22528cd1e1b/deprecation-2.1.0-py2.py3-none-any.whl\n",
            "Requirement already satisfied: scipy in /usr/local/lib/python3.6/dist-packages (from pm4py) (1.4.1)\n",
            "Collecting ciso8601; python_version < \"3.7\"\n",
            "  Downloading https://files.pythonhosted.org/packages/2c/da/626910cf8aca7ed2d5b34355eee8aeaaeb6ddd4e16f98d00a9e2ddad3a08/ciso8601-2.1.3.tar.gz\n",
            "Requirement already satisfied: numpy in /usr/local/lib/python3.6/dist-packages (from pm4py) (1.18.5)\n",
            "Collecting pm4pycvxopt>=0.0.9; python_version < \"3.8\"\n",
            "  Downloading https://files.pythonhosted.org/packages/15/d1/20b3b622c4c5a3df658e0719c585ef3b37a483653dfe95b8fc0e2424b6a9/pm4pycvxopt-0.0.9-py3-none-any.whl\n",
            "Requirement already satisfied: intervaltree in /usr/local/lib/python3.6/dist-packages (from pm4py) (2.1.0)\n",
            "Collecting pyvis\n",
            "  Downloading https://files.pythonhosted.org/packages/77/e1/bee44bc4ec826bb7ed1f1ff52244bca3745b1a7d72033fc84ffeed61725b/pyvis-0.1.8.2-py3-none-any.whl\n",
            "Requirement already satisfied: sympy in /usr/local/lib/python3.6/dist-packages (from pm4py) (1.1.1)\n",
            "Requirement already satisfied: pandas in /usr/local/lib/python3.6/dist-packages (from pm4py) (1.0.5)\n",
            "Requirement already satisfied: networkx in /usr/local/lib/python3.6/dist-packages (from pm4py) (2.5)\n",
            "Requirement already satisfied: pyparsing>=2.0.1 in /usr/local/lib/python3.6/dist-packages (from pydotplus->pm4py) (2.4.7)\n",
            "Requirement already satisfied: cycler>=0.10 in /usr/local/lib/python3.6/dist-packages (from matplotlib->pm4py) (0.10.0)\n",
            "Requirement already satisfied: python-dateutil>=2.1 in /usr/local/lib/python3.6/dist-packages (from matplotlib->pm4py) (2.8.1)\n",
            "Requirement already satisfied: kiwisolver>=1.0.1 in /usr/local/lib/python3.6/dist-packages (from matplotlib->pm4py) (1.2.0)\n",
            "Requirement already satisfied: importlib-metadata in /usr/local/lib/python3.6/dist-packages (from jsonpickle->pm4py) (1.7.0)\n",
            "Requirement already satisfied: joblib>=0.11 in /usr/local/lib/python3.6/dist-packages (from scikit-learn->pm4py) (0.16.0)\n",
            "Requirement already satisfied: packaging in /usr/local/lib/python3.6/dist-packages (from deprecation->pm4py) (20.4)\n",
            "Requirement already satisfied: cvxopt in /usr/local/lib/python3.6/dist-packages (from pm4pycvxopt>=0.0.9; python_version < \"3.8\"->pm4py) (1.2.5)\n",
            "Requirement already satisfied: sortedcontainers in /usr/local/lib/python3.6/dist-packages (from intervaltree->pm4py) (2.2.2)\n",
            "Requirement already satisfied: ipython>=5.3.0 in /usr/local/lib/python3.6/dist-packages (from pyvis->pm4py) (5.5.0)\n",
            "Requirement already satisfied: jinja2>=2.9.6 in /usr/local/lib/python3.6/dist-packages (from pyvis->pm4py) (2.11.2)\n",
            "Requirement already satisfied: mpmath>=0.19 in /usr/local/lib/python3.6/dist-packages (from sympy->pm4py) (1.1.0)\n",
            "Requirement already satisfied: decorator>=4.3.0 in /usr/local/lib/python3.6/dist-packages (from networkx->pm4py) (4.4.2)\n",
            "Requirement already satisfied: six in /usr/local/lib/python3.6/dist-packages (from cycler>=0.10->matplotlib->pm4py) (1.15.0)\n",
            "Requirement already satisfied: zipp>=0.5 in /usr/local/lib/python3.6/dist-packages (from importlib-metadata->jsonpickle->pm4py) (3.1.0)\n",
            "Requirement already satisfied: pickleshare in /usr/local/lib/python3.6/dist-packages (from ipython>=5.3.0->pyvis->pm4py) (0.7.5)\n",
            "Requirement already satisfied: simplegeneric>0.8 in /usr/local/lib/python3.6/dist-packages (from ipython>=5.3.0->pyvis->pm4py) (0.8.1)\n",
            "Requirement already satisfied: pexpect; sys_platform != \"win32\" in /usr/local/lib/python3.6/dist-packages (from ipython>=5.3.0->pyvis->pm4py) (4.8.0)\n",
            "Requirement already satisfied: pygments in /usr/local/lib/python3.6/dist-packages (from ipython>=5.3.0->pyvis->pm4py) (2.6.1)\n",
            "Requirement already satisfied: traitlets>=4.2 in /usr/local/lib/python3.6/dist-packages (from ipython>=5.3.0->pyvis->pm4py) (4.3.3)\n",
            "Requirement already satisfied: prompt-toolkit<2.0.0,>=1.0.4 in /usr/local/lib/python3.6/dist-packages (from ipython>=5.3.0->pyvis->pm4py) (1.0.18)\n",
            "Requirement already satisfied: setuptools>=18.5 in /usr/local/lib/python3.6/dist-packages (from ipython>=5.3.0->pyvis->pm4py) (50.3.0)\n",
            "Requirement already satisfied: MarkupSafe>=0.23 in /usr/local/lib/python3.6/dist-packages (from jinja2>=2.9.6->pyvis->pm4py) (1.1.1)\n",
            "Requirement already satisfied: ptyprocess>=0.5 in /usr/local/lib/python3.6/dist-packages (from pexpect; sys_platform != \"win32\"->ipython>=5.3.0->pyvis->pm4py) (0.6.0)\n",
            "Requirement already satisfied: ipython-genutils in /usr/local/lib/python3.6/dist-packages (from traitlets>=4.2->ipython>=5.3.0->pyvis->pm4py) (0.2.0)\n",
            "Requirement already satisfied: wcwidth in /usr/local/lib/python3.6/dist-packages (from prompt-toolkit<2.0.0,>=1.0.4->ipython>=5.3.0->pyvis->pm4py) (0.2.5)\n",
            "Building wheels for collected packages: stringdist, ciso8601\n",
            "  Building wheel for stringdist (setup.py) ... \u001b[?25l\u001b[?25hdone\n",
            "  Created wheel for stringdist: filename=StringDist-1.0.9-cp36-cp36m-linux_x86_64.whl size=24374 sha256=17804e431b1213b51b9f7bef2918a847b2903018d5c02ae571d52a0035dacaec\n",
            "  Stored in directory: /root/.cache/pip/wheels/c3/1b/bb/bf0de4d64d8ca38759811fe3353e441f12feb606fb3d1d2e11\n",
            "  Building wheel for ciso8601 (setup.py) ... \u001b[?25l\u001b[?25hdone\n",
            "  Created wheel for ciso8601: filename=ciso8601-2.1.3-cp36-cp36m-linux_x86_64.whl size=28299 sha256=e7016ba1c4a8ac67cd012d8deaa0f2d88f5d2a5d7bf734cb796a14971fee98bd\n",
            "  Stored in directory: /root/.cache/pip/wheels/eb/32/e4/13bdaf7e245f82667b21e0cfb03d21224691a47fa9f9bc80a6\n",
            "Successfully built stringdist ciso8601\n",
            "Installing collected packages: pulp, stringdist, jsonpickle, deprecation, ciso8601, pm4pycvxopt, pyvis, pm4py\n",
            "Successfully installed ciso8601-2.1.3 deprecation-2.1.0 jsonpickle-1.4.1 pm4py-1.5.1 pm4pycvxopt-0.0.9 pulp-2.1 pyvis-0.1.8.2 stringdist-1.0.9\n",
            "Looking in links: https://pytorch-geometric.com/whl/torch-1.5.0.html\n",
            "Collecting torch-scatter==latest+cu101\n",
            "\u001b[?25l  Downloading https://pytorch-geometric.com/whl/torch-1.5.0/torch_scatter-latest%2Bcu101-cp36-cp36m-linux_x86_64.whl (12.3MB)\n",
            "\u001b[K     |████████████████████████████████| 12.3MB 250kB/s \n",
            "\u001b[?25hInstalling collected packages: torch-scatter\n",
            "Successfully installed torch-scatter-2.0.5\n",
            "Looking in links: https://pytorch-geometric.com/whl/torch-1.5.0.html\n",
            "Collecting torch-sparse==latest+cu101\n",
            "\u001b[?25l  Downloading https://pytorch-geometric.com/whl/torch-1.5.0/torch_sparse-latest%2Bcu101-cp36-cp36m-linux_x86_64.whl (23.9MB)\n",
            "\u001b[K     |████████████████████████████████| 23.9MB 103kB/s \n",
            "\u001b[?25hRequirement already satisfied: scipy in /usr/local/lib/python3.6/dist-packages (from torch-sparse==latest+cu101) (1.4.1)\n",
            "Requirement already satisfied: numpy>=1.13.3 in /usr/local/lib/python3.6/dist-packages (from scipy->torch-sparse==latest+cu101) (1.18.5)\n",
            "Installing collected packages: torch-sparse\n",
            "Successfully installed torch-sparse-0.6.7\n",
            "Looking in links: https://pytorch-geometric.com/whl/torch-1.5.0.html\n",
            "Collecting torch-cluster==latest+cu101\n",
            "\u001b[?25l  Downloading https://pytorch-geometric.com/whl/torch-1.5.0/torch_cluster-latest%2Bcu101-cp36-cp36m-linux_x86_64.whl (21.3MB)\n",
            "\u001b[K     |████████████████████████████████| 21.3MB 158kB/s \n",
            "\u001b[?25hInstalling collected packages: torch-cluster\n",
            "Successfully installed torch-cluster-1.5.7\n",
            "Looking in links: https://pytorch-geometric.com/whl/torch-1.5.0.html\n",
            "Collecting torch-spline-conv==latest+cu101\n",
            "\u001b[?25l  Downloading https://pytorch-geometric.com/whl/torch-1.5.0/torch_spline_conv-latest%2Bcu101-cp36-cp36m-linux_x86_64.whl (6.3MB)\n",
            "\u001b[K     |████████████████████████████████| 6.3MB 7.7MB/s \n",
            "\u001b[?25hInstalling collected packages: torch-spline-conv\n",
            "Successfully installed torch-spline-conv-1.2.0\n",
            "Collecting torch-geometric\n",
            "\u001b[?25l  Downloading https://files.pythonhosted.org/packages/88/67/6c0bce6b6e6bc806e25d996e46a686e5a11254d89257983265a988bb02ee/torch_geometric-1.6.1.tar.gz (178kB)\n",
            "\u001b[K     |████████████████████████████████| 184kB 5.2MB/s \n",
            "\u001b[?25hRequirement already satisfied: torch in /usr/local/lib/python3.6/dist-packages (from torch-geometric) (1.6.0+cu101)\n",
            "Requirement already satisfied: numpy in /usr/local/lib/python3.6/dist-packages (from torch-geometric) (1.18.5)\n",
            "Requirement already satisfied: tqdm in /usr/local/lib/python3.6/dist-packages (from torch-geometric) (4.41.1)\n",
            "Requirement already satisfied: scipy in /usr/local/lib/python3.6/dist-packages (from torch-geometric) (1.4.1)\n",
            "Requirement already satisfied: networkx in /usr/local/lib/python3.6/dist-packages (from torch-geometric) (2.5)\n",
            "Requirement already satisfied: scikit-learn in /usr/local/lib/python3.6/dist-packages (from torch-geometric) (0.22.2.post1)\n",
            "Requirement already satisfied: numba in /usr/local/lib/python3.6/dist-packages (from torch-geometric) (0.48.0)\n",
            "Requirement already satisfied: requests in /usr/local/lib/python3.6/dist-packages (from torch-geometric) (2.23.0)\n",
            "Requirement already satisfied: pandas in /usr/local/lib/python3.6/dist-packages (from torch-geometric) (1.0.5)\n",
            "Collecting rdflib\n",
            "\u001b[?25l  Downloading https://files.pythonhosted.org/packages/d0/6b/6454aa1db753c0f8bc265a5bd5c10b5721a4bb24160fb4faf758cf6be8a1/rdflib-5.0.0-py3-none-any.whl (231kB)\n",
            "\u001b[K     |████████████████████████████████| 235kB 16.9MB/s \n",
            "\u001b[?25hRequirement already satisfied: h5py in /usr/local/lib/python3.6/dist-packages (from torch-geometric) (2.10.0)\n",
            "Requirement already satisfied: googledrivedownloader in /usr/local/lib/python3.6/dist-packages (from torch-geometric) (0.4)\n",
            "Collecting ase\n",
            "\u001b[?25l  Downloading https://files.pythonhosted.org/packages/51/78/edadb45c7f26f8fbb99da81feadb561c26bb0393b6c5d1ac200ecdc12d61/ase-3.20.1-py3-none-any.whl (2.2MB)\n",
            "\u001b[K     |████████████████████████████████| 2.2MB 16.8MB/s \n",
            "\u001b[?25hRequirement already satisfied: jinja2 in /usr/local/lib/python3.6/dist-packages (from torch-geometric) (2.11.2)\n",
            "Requirement already satisfied: future in /usr/local/lib/python3.6/dist-packages (from torch->torch-geometric) (0.16.0)\n",
            "Requirement already satisfied: decorator>=4.3.0 in /usr/local/lib/python3.6/dist-packages (from networkx->torch-geometric) (4.4.2)\n",
            "Requirement already satisfied: joblib>=0.11 in /usr/local/lib/python3.6/dist-packages (from scikit-learn->torch-geometric) (0.16.0)\n",
            "Requirement already satisfied: llvmlite<0.32.0,>=0.31.0dev0 in /usr/local/lib/python3.6/dist-packages (from numba->torch-geometric) (0.31.0)\n",
            "Requirement already satisfied: setuptools in /usr/local/lib/python3.6/dist-packages (from numba->torch-geometric) (50.3.0)\n",
            "Requirement already satisfied: idna<3,>=2.5 in /usr/local/lib/python3.6/dist-packages (from requests->torch-geometric) (2.10)\n",
            "Requirement already satisfied: urllib3!=1.25.0,!=1.25.1,<1.26,>=1.21.1 in /usr/local/lib/python3.6/dist-packages (from requests->torch-geometric) (1.24.3)\n",
            "Requirement already satisfied: certifi>=2017.4.17 in /usr/local/lib/python3.6/dist-packages (from requests->torch-geometric) (2020.6.20)\n",
            "Requirement already satisfied: chardet<4,>=3.0.2 in /usr/local/lib/python3.6/dist-packages (from requests->torch-geometric) (3.0.4)\n",
            "Requirement already satisfied: python-dateutil>=2.6.1 in /usr/local/lib/python3.6/dist-packages (from pandas->torch-geometric) (2.8.1)\n",
            "Requirement already satisfied: pytz>=2017.2 in /usr/local/lib/python3.6/dist-packages (from pandas->torch-geometric) (2018.9)\n",
            "Requirement already satisfied: six in /usr/local/lib/python3.6/dist-packages (from rdflib->torch-geometric) (1.15.0)\n",
            "Collecting isodate\n",
            "\u001b[?25l  Downloading https://files.pythonhosted.org/packages/9b/9f/b36f7774ff5ea8e428fdcfc4bb332c39ee5b9362ddd3d40d9516a55221b2/isodate-0.6.0-py2.py3-none-any.whl (45kB)\n",
            "\u001b[K     |████████████████████████████████| 51kB 8.7MB/s \n",
            "\u001b[?25hRequirement already satisfied: pyparsing in /usr/local/lib/python3.6/dist-packages (from rdflib->torch-geometric) (2.4.7)\n",
            "Requirement already satisfied: matplotlib>=2.0.0 in /usr/local/lib/python3.6/dist-packages (from ase->torch-geometric) (3.2.2)\n",
            "Requirement already satisfied: MarkupSafe>=0.23 in /usr/local/lib/python3.6/dist-packages (from jinja2->torch-geometric) (1.1.1)\n",
            "Requirement already satisfied: kiwisolver>=1.0.1 in /usr/local/lib/python3.6/dist-packages (from matplotlib>=2.0.0->ase->torch-geometric) (1.2.0)\n",
            "Requirement already satisfied: cycler>=0.10 in /usr/local/lib/python3.6/dist-packages (from matplotlib>=2.0.0->ase->torch-geometric) (0.10.0)\n",
            "Building wheels for collected packages: torch-geometric\n",
            "  Building wheel for torch-geometric (setup.py) ... \u001b[?25l\u001b[?25hdone\n",
            "  Created wheel for torch-geometric: filename=torch_geometric-1.6.1-cp36-none-any.whl size=308552 sha256=e9e034b3fc8a1081d4f2603b88e08bb5eafda063e907a43348bf3aa8849b3e91\n",
            "  Stored in directory: /root/.cache/pip/wheels/e6/25/ea/3d71d2088dccc63214fa59259dcc598ded4150a5f8b41d84ff\n",
            "Successfully built torch-geometric\n",
            "Installing collected packages: isodate, rdflib, ase, torch-geometric\n",
            "Successfully installed ase-3.20.1 isodate-0.6.0 rdflib-5.0.0 torch-geometric-1.6.1\n"
          ],
          "name": "stdout"
        }
      ]
    },
    {
      "cell_type": "code",
      "metadata": {
        "id": "V9rHPnPB6TAe",
        "colab_type": "code",
        "colab": {}
      },
      "source": [
        "import pandas as pd\n",
        "import time\n",
        "from datetime import datetime\n",
        "import numpy as np\n",
        "from numpy import vstack\n",
        "from sklearn.metrics import accuracy_score\n",
        "from sklearn.preprpath = '/Data/helpdesk.csv'ocessing import LabelEncoder\n",
        "from sklearn.model_selection import train_test_split\n",
        "from scipy.linalg import fractional_matrix_power\n",
        "\n",
        "import torch \n",
        "import torch.nn as nn\n",
        "from torch.nn import Parameter\n",
        "#from torch_geometric.nn.inits import glorot, zeros\n",
        "\n",
        "from torch.utils.data import Dataset\n",
        "from torch.utils.data import random_split\n",
        "from torch.utils.data import DataLoader\n",
        "from torch.utils.data import Subset"
      ],
      "execution_count": 18,
      "outputs": []
    },
    {
      "cell_type": "code",
      "metadata": {
        "id": "00Arul0B9IOL",
        "colab_type": "code",
        "colab": {}
      },
      "source": [
        "from pm4py.objects.conversion.log import converter as log_converter\n",
        "from pm4py.algo.discovery.dfg import algorithm as dfg_algorithm\n",
        "from pm4py.objects.conversion.dfg import converter as dfg_conv\n",
        "from pm4py.objects.log.importer.xes import importer as xes_importer\n",
        "from pm4py.visualization.dfg import visualizer as dfg_vis_fact\n",
        "from pm4py.visualization.petrinet import visualizer as pn_vis"
      ],
      "execution_count": 10,
      "outputs": []
    },
    {
      "cell_type": "code",
      "metadata": {
        "id": "-cSQCYv8Jnje",
        "colab_type": "code",
        "colab": {}
      },
      "source": [
        "# from torch_geometric.nn.inits import glorot, zeros \n",
        "\n",
        "#Unable to import above line, so manually copy-pasting the source code\n",
        "\n",
        "import math\n",
        "\n",
        "def glorot(tensor):\n",
        "    if tensor is not None:\n",
        "        stdv = math.sqrt(6.0 / (tensor.size(-2) + tensor.size(-1)))\n",
        "        tensor.data.uniform_(-stdv, stdv)\n",
        "\n",
        "def zeros(tensor):\n",
        "    if tensor is not None:\n",
        "        tensor.data.fill_(0)"
      ],
      "execution_count": 11,
      "outputs": []
    },
    {
      "cell_type": "code",
      "metadata": {
        "id": "ai-zfRqsWuVV",
        "colab_type": "code",
        "colab": {}
      },
      "source": [
        "import bisect\n",
        "import warnings\n",
        "from torch._utils import _accumulate\n",
        "from torch import randperm, default_generator\n",
        "\n",
        "class Subset(Dataset):\n",
        "    r\"\"\"\n",
        "    Subset of a dataset at specified indices.\n",
        "\n",
        "    Arguments:\n",
        "        dataset (Dataset): The whole Dataset\n",
        "        indices (sequence): Indices in the whole set selected for subset\n",
        "    \"\"\"\n",
        "    def __init__(self, dataset, indices):\n",
        "        self.dataset = dataset\n",
        "        self.indices = indices\n",
        "\n",
        "    def __getitem__(self, idx):\n",
        "        return self.dataset[self.indices[idx]]\n",
        "\n",
        "    def __len__(self):\n",
        "        return len(self.indices)\n",
        "        \n",
        "def random_split(dataset, lengths, generator=default_generator):\n",
        "    r\"\"\"\n",
        "    Randomly split a dataset into non-overlapping new datasets of given lengths.\n",
        "    Optionally fix the generator for reproducible results, e.g.:\n",
        "\n",
        "    >>> random_split(range(10), [3, 7], generator=torch.Generator().manual_seed(42))\n",
        "\n",
        "    Arguments:\n",
        "        dataset (Dataset): Dataset to be split\n",
        "        lengths (sequence): lengths of splits to be produced\n",
        "        generator (Generator): Generator used for the random permutation.\n",
        "    \"\"\"\n",
        "    if sum(lengths) != len(dataset):\n",
        "        raise ValueError(\"Sum of input lengths does not equal the length of the input dataset!\")\n",
        "\n",
        "    indices = randperm(sum(lengths), generator=generator).tolist()\n",
        "    return [Subset(dataset, indices[offset - length : offset]) for offset, length in zip(_accumulate(lengths), lengths)]"
      ],
      "execution_count": 12,
      "outputs": []
    },
    {
      "cell_type": "markdown",
      "metadata": {
        "id": "5rkd6Re9YYcX",
        "colab_type": "text"
      },
      "source": [
        "# Setting the parameters"
      ]
    },
    {
      "cell_type": "code",
      "metadata": {
        "id": "Wbo3vcPS6ald",
        "colab_type": "code",
        "colab": {}
      },
      "source": [
        "# Helpdesk dataset\n",
        "\n",
        "path = '/Data/helpdesk.csv'\n",
        "save_folder = '/Results/helpdesk'\n",
        "num_nodes = 9\n",
        "\n",
        "# # BPI dataset\n",
        "\n",
        "# path = '/Data/bpi_12_w.csv'\n",
        "# save_folder = '/Results/bpi'\n",
        "# num_nodes = 6 \n",
        "\n",
        "# # BPI dataset (No Repeats)\n",
        "\n",
        "# path = '/Data/bpi_12_w_no_repeat.csv'\n",
        "# save_folder = '/Results/bpi_no_repeat'\n",
        "# num_nodes = 6 \n",
        "\n",
        "num_features = 4\n",
        "showProcessGraph = True\n",
        "device = 'cuda' if torch.cuda.is_available() else 'cpu'\n",
        "# device = 'cuda'\n",
        "num_epochs = 100\n",
        "seed_value = 42\n",
        "lr_value = 1e-05\n",
        "weighted_adjacency = False\n",
        "binary_adjacency = True\n",
        "laplacian_matrix = True\n",
        "variant = 'laplacianOnBinary' # Choose from ['weighted','binary','laplacianOnWeighted','laplacianOnBinary']"
      ],
      "execution_count": 27,
      "outputs": []
    },
    {
      "cell_type": "markdown",
      "metadata": {
        "id": "dlHB6xqR8VOl",
        "colab_type": "text"
      },
      "source": [
        "# Data Pre-processing"
      ]
    },
    {
      "cell_type": "code",
      "metadata": {
        "id": "u6BZ98xW4fSY",
        "colab_type": "code",
        "colab": {}
      },
      "source": [
        "def generate_features (df,total_activities,num_features):\n",
        "  lastcase = ''\n",
        "  firstLine = True\n",
        "  numlines = 0\n",
        "  casestarttime = None\n",
        "  lasteventtime = None\n",
        "  features = []\n",
        "\n",
        "  for i,row in df.iterrows():\n",
        "    t = time.strptime(row[2], \"%Y-%m-%d %H:%M:%S\")\n",
        "    if row[0]!=lastcase:\n",
        "        casestarttime = t\n",
        "        lasteventtime = t\n",
        "        lastcase = row[0]\n",
        "        numlines+=1\n",
        "    timesincelastevent = datetime.fromtimestamp(time.mktime(t))-datetime.fromtimestamp(time.mktime(lasteventtime))\n",
        "    timesincecasestart = datetime.fromtimestamp(time.mktime(t))-datetime.fromtimestamp(time.mktime(casestarttime))\n",
        "    midnight = datetime.fromtimestamp(time.mktime(t)).replace(hour=0, minute=0, second=0, microsecond=0)\n",
        "    timesincemidnight = datetime.fromtimestamp(time.mktime(t))-midnight\n",
        "    timediff = 86400 * timesincelastevent.days + timesincelastevent.seconds\n",
        "    timediff2 = 86400 * timesincecasestart.days + timesincecasestart.seconds\n",
        "    timediff3 = timesincemidnight.seconds #this leaves only time even occured after midnight\n",
        "    timediff4 = datetime.fromtimestamp(time.mktime(t)).weekday() #day of the week\n",
        "    lasteventtime = t\n",
        "    firstLine = False\n",
        "    feature_list = [timediff,timediff2,timediff3,timediff4]\n",
        "    features.append(feature_list)\n",
        "\n",
        "  df['Feature Vector'] = features\n",
        "  \n",
        "  firstLine = True\n",
        "  NN_features =[]\n",
        "\n",
        "  for i,row in df.iterrows():\n",
        "    if firstLine:\n",
        "      features = np.zeros((total_activities,num_features))\n",
        "      features[row[1] - 1] = row[3]\n",
        "      firstLine = False\n",
        "    else:\n",
        "      if (row[3][0] == 0):\n",
        "        features = np.zeros((total_activities,num_features))\n",
        "        features[row[1] - 1] = row[3]\n",
        "      else:\n",
        "        features = np.copy(prev_row_features)\n",
        "        features[row[1] - 1] = row[3]\n",
        "    prev_row_features = features\n",
        "    NN_features.append(features)  \n",
        "  \n",
        "  return NN_features"
      ],
      "execution_count": 28,
      "outputs": []
    },
    {
      "cell_type": "code",
      "metadata": {
        "id": "r7kIG6467QUA",
        "colab_type": "code",
        "colab": {}
      },
      "source": [
        "def generate_labels(df,total_activities):\n",
        "  next_activity = []\n",
        "  next_timestamp = []\n",
        "\n",
        "  for i,row in df.iterrows():\n",
        "    if (i != 0):\n",
        "      if (row[3][0]==0):\n",
        "        next_activity.append(total_activities)\n",
        "      else:\n",
        "        next_activity.append(row[1]-1)\n",
        "  next_activity.append(total_activities)\n",
        "  for i,row in df.iterrows():\n",
        "    if (i != 0):\n",
        "      if (row[3][0]==0):\n",
        "        next_timestamp.append(0)\n",
        "      else:\n",
        "        next_timestamp.append(row[3][2])\n",
        "  next_timestamp.append(0)\n",
        "\n",
        "  return next_activity,next_timestamp"
      ],
      "execution_count": 29,
      "outputs": []
    },
    {
      "cell_type": "code",
      "metadata": {
        "id": "8K4Nk1h5_pWF",
        "colab_type": "code",
        "colab": {}
      },
      "source": [
        "class EventLogData(Dataset):\n",
        "  def __init__ (self, input, output):\n",
        "    self.X = input\n",
        "    self.y = output\n",
        "    self.y = self.y.to(torch.float32)\n",
        "    self.y = self.y.reshape((len(self.y),1))\n",
        "\n",
        "  #get the number of rows in the dataset\n",
        "  def __len__(self):\n",
        "    return len(self.X)\n",
        "\n",
        "  #get a row at a particular index in the dataset\n",
        "  def __getitem__ (self,idx):\n",
        "    return [self.X[idx],self.y[idx]]\n",
        "  \n",
        "  # get the indices for the train and test rows\n",
        "  def get_splits(self, n_test = 0.33, n_valid = 0.2):\n",
        "    train_idx,test_idx = train_test_split(list(range(len(self.X))),test_size = n_test, shuffle = False )\n",
        "    train_idx, valid_idx = train_test_split(train_idx, test_size = n_valid, shuffle = False)\n",
        "    train = Subset(self, train_idx)\n",
        "    valid = Subset(self, valid_idx)\n",
        "    test = Subset(self, test_idx)\n",
        "    return train, valid, test"
      ],
      "execution_count": 38,
      "outputs": []
    },
    {
      "cell_type": "code",
      "metadata": {
        "id": "yfUPU0l7DGkQ",
        "colab_type": "code",
        "colab": {}
      },
      "source": [
        "def prepare_data_for_Predictor(NN_features,label):\n",
        "  dataset = EventLogData(NN_features,label)\n",
        "  train, valid, test = dataset.get_splits()\n",
        "  train_dl = DataLoader(train, batch_size=1, shuffle = True)\n",
        "  valid_dl = DataLoader(valid, batch_size=1, shuffle = False)\n",
        "  test_dl = DataLoader(test, batch_size = 1, shuffle = False)\n",
        "  return train_dl, valid_dl, test_dl"
      ],
      "execution_count": 39,
      "outputs": []
    },
    {
      "cell_type": "code",
      "metadata": {
        "id": "JCcv04DQ4Q1J",
        "colab_type": "code",
        "colab": {}
      },
      "source": [
        "def generate_input_and_labels (path):\n",
        "  df = pd.read_csv(path)\n",
        "  total_unique_activities = num_nodes\n",
        "  NN_features = generate_features(df,total_unique_activities,num_features)\n",
        "  next_activity, next_timestamp = generate_labels(df,total_unique_activities)\n",
        "  NN_features = torch.Tensor(NN_features).to(torch.float32)\n",
        "  next_activity = torch.Tensor(next_activity).to(torch.float32)\n",
        "  next_timestamp = torch.Tensor(next_timestamp).to(torch.float32)\n",
        " \n",
        "  train_dl, valid_dl, test_dl = prepare_data_for_Predictor(NN_features, next_activity)\n",
        "  \n",
        "  return train_dl,valid_dl,test_dl"
      ],
      "execution_count": 40,
      "outputs": []
    },
    {
      "cell_type": "markdown",
      "metadata": {
        "id": "Upqo-IbWYiCG",
        "colab_type": "text"
      },
      "source": [
        "# Getting Adjacency Matrix from Process Graph"
      ]
    },
    {
      "cell_type": "code",
      "metadata": {
        "id": "N-cisiZP9_i3",
        "colab_type": "code",
        "colab": {}
      },
      "source": [
        "def generate_process_graph (path):\n",
        "  data = pd.read_csv(path)\n",
        "  num_nodes = data['ActivityID'].nunique() # 9 for helpdesk.csv\n",
        "  cols = ['case:concept:name','concept:name','time:timestamp']\n",
        "  data.columns = cols \n",
        "  data['time:timestamp'] = pd.to_datetime(data['time:timestamp'])\n",
        "  data['concept:name'] = data['concept:name'].astype(str)\n",
        "  log = log_converter.apply(data, variant=log_converter.Variants.TO_EVENT_LOG)\n",
        "  dfg = dfg_algorithm.apply(log)\n",
        "  if showProcessGraph:\n",
        "    visualize_process_graph(dfg,log)\n",
        "  max = 0\n",
        "  min = 0\n",
        "  adj = np.zeros((num_nodes,num_nodes))\n",
        "  for k,v in dfg.items():\n",
        "    for i in range(num_nodes):\n",
        "      if(k[0] == str(i+1)):\n",
        "        for j in range(num_nodes):\n",
        "          if (k[1] == str(j+1)):\n",
        "            adj[i][j] = v\n",
        "            if (v > max): max=v\n",
        "            if (v< min): min=v\n",
        "\n",
        "  print(\"Raw weighted adjacency matrix: {}\".format(adj))\n",
        "  \n",
        "  if binary_adjacency:\n",
        "    for i in range(num_nodes):\n",
        "      for j in range(num_nodes):\n",
        "        if (adj[i][j]!=0):\n",
        "          adj[i][j]=1\n",
        "    print(\"Binary adjacency matrix: {}\".format(adj))\n",
        "  \n",
        "  D = np.array(np.sum(adj, axis=1))\n",
        "  D = np.matrix(np.diag(D))\n",
        "  print(\"Degree matrix: {}\".format(D))\n",
        "  \n",
        "  adj = np.matrix(adj)\n",
        "\n",
        "  if laplacian_matrix:\n",
        "    adj = D - adj # Laplacian Transform \n",
        "    print(\"Laplacian matrix: {}\".format(adj))\n",
        "\n",
        "  # adj = (D**-1)*adj\n",
        "  adj = fractional_matrix_power(D, -0.5)*adj*fractional_matrix_power(D, -0.5)\n",
        "  adj = torch.Tensor(adj).to(torch.float)\n",
        "  \n",
        "  print(\"Symmetrically normalised Adjacency matrix: {}\".format(adj))\n",
        "  \n",
        "  return adj"
      ],
      "execution_count": 43,
      "outputs": []
    },
    {
      "cell_type": "code",
      "metadata": {
        "id": "sykHW0KW-6xT",
        "colab_type": "code",
        "colab": {}
      },
      "source": [
        "def visualize_process_graph (dfg,log):\n",
        "  dfg_gv = dfg_vis_fact.apply(dfg, log, parameters={dfg_vis_fact.Variants.FREQUENCY.value.Parameters.FORMAT: \"jpeg\"})\n",
        "  dfg_vis_fact.view(dfg_gv)\n",
        "  dfg_vis_fact.save(dfg_gv,\"dfg.jpg\")"
      ],
      "execution_count": 44,
      "outputs": []
    },
    {
      "cell_type": "markdown",
      "metadata": {
        "id": "ztVjtvxqYnb3",
        "colab_type": "text"
      },
      "source": [
        "# Building Model"
      ]
    },
    {
      "cell_type": "code",
      "metadata": {
        "id": "CW3XlEZ591GP",
        "colab_type": "code",
        "colab": {}
      },
      "source": [
        "class GCNConv(torch.nn.Module):\n",
        "    def __init__(self, num_nodes, num_features, out_channels):\n",
        "        super(GCNConv, self).__init__()\n",
        "\n",
        "        self.in_channels = num_features\n",
        "        self.out_channels = out_channels\n",
        "\n",
        "        self.weight = Parameter(torch.Tensor(num_features, out_channels))\n",
        "        self.bias = Parameter(torch.Tensor(num_nodes))\n",
        "\n",
        "        self.reset_parameters()\n",
        "\n",
        "    def reset_parameters(self):\n",
        "        glorot(self.weight)\n",
        "        zeros(self.bias)\n",
        "\n",
        "    def forward(self, x, adj):\n",
        "        x = adj@x@self.weight\n",
        "        x = torch.flatten(x)\n",
        "        x = x + self.bias\n",
        "        return x"
      ],
      "execution_count": 45,
      "outputs": []
    },
    {
      "cell_type": "code",
      "metadata": {
        "id": "atBZHXaU-Hmg",
        "colab_type": "code",
        "colab": {}
      },
      "source": [
        "class EventPredictor(torch.nn.Module):\n",
        "    def __init__(self,num_nodes, num_features = 4):\n",
        "        super(EventPredictor, self).__init__()\n",
        "\n",
        "        self.layer1 = GCNConv(num_nodes, num_features, out_channels=1)\n",
        "        self.layer2 = nn.Sequential(\n",
        "            nn.Dropout(),\n",
        "            nn.Linear(num_nodes,256),\n",
        "            nn.Tanh(),\n",
        "            nn.Linear(256,256),\n",
        "            nn.Tanh(),\n",
        "            nn.Dropout(),\n",
        "            nn.Linear(256,num_nodes+1),\n",
        "        )\n",
        "\n",
        "    def forward(self, x, adj):\n",
        "        x = self.layer1(x,adj)\n",
        "        x = self.layer2(x)\n",
        "        # x = torch.sigmoid(x)\n",
        "        return x"
      ],
      "execution_count": 46,
      "outputs": []
    },
    {
      "cell_type": "code",
      "metadata": {
        "id": "MqLikDSpFjfv",
        "colab_type": "code",
        "colab": {
          "base_uri": "https://localhost:8080/",
          "height": 1000
        },
        "outputId": "83acac39-5421-4ae3-ea6f-05a27b696e0d"
      },
      "source": [
        "model = EventPredictor(num_nodes, num_features)\n",
        "train_dl,valid_dl,test_dl = generate_input_and_labels(path)\n",
        "adj = generate_process_graph(path)\n",
        "criterion = nn.CrossEntropyLoss()\n",
        "optimizer = torch.optim.Adam(model.parameters(),lr=lr_value)\n",
        "print(\"************* Event Predictor ***************\")\n",
        "print(\"Train size: {}, Validation size:{}, Test size: {}\".format(len(train_dl.dataset),len(valid_dl.dataset),len(test_dl.dataset)))\n",
        "print(model)"
      ],
      "execution_count": 47,
      "outputs": [
        {
          "output_type": "display_data",
          "data": {
            "image/jpeg": "[encoded data removed]",
            "text/plain": [
              "<IPython.core.display.Image object>"
            ]
          },
          "metadata": {
            "tags": []
          }
        },
        {
          "output_type": "stream",
          "text": [
            "Raw weighted adjacency matrix: [[3.940e+02 0.000e+00 0.000e+00 0.000e+00 0.000e+00 2.200e+02 0.000e+00\n",
            "  3.483e+03 4.700e+01]\n",
            " [0.000e+00 1.000e+00 0.000e+00 2.000e+00 3.000e+00 3.700e+01 0.000e+00\n",
            "  2.000e+00 0.000e+00]\n",
            " [1.050e+02 0.000e+00 0.000e+00 0.000e+00 0.000e+00 0.000e+00 0.000e+00\n",
            "  3.000e+00 0.000e+00]\n",
            " [0.000e+00 1.000e+00 0.000e+00 3.000e+00 0.000e+00 8.000e+00 0.000e+00\n",
            "  2.000e+00 0.000e+00]\n",
            " [0.000e+00 0.000e+00 0.000e+00 0.000e+00 1.000e+00 4.000e+00 0.000e+00\n",
            "  0.000e+00 0.000e+00]\n",
            " [0.000e+00 0.000e+00 0.000e+00 0.000e+00 0.000e+00 2.080e+02 0.000e+00\n",
            "  1.360e+02 2.000e+00]\n",
            " [0.000e+00 0.000e+00 0.000e+00 0.000e+00 0.000e+00 3.000e+00 0.000e+00\n",
            "  1.000e+00 0.000e+00]\n",
            " [1.000e+00 4.200e+01 0.000e+00 9.000e+00 1.000e+00 3.286e+03 4.000e+00\n",
            "  8.400e+01 8.510e+02]\n",
            " [0.000e+00 0.000e+00 0.000e+00 0.000e+00 0.000e+00 3.820e+02 0.000e+00\n",
            "  5.190e+02 6.100e+01]]\n",
            "Binary adjacency matrix: [[1. 0. 0. 0. 0. 1. 0. 1. 1.]\n",
            " [0. 1. 0. 1. 1. 1. 0. 1. 0.]\n",
            " [1. 0. 0. 0. 0. 0. 0. 1. 0.]\n",
            " [0. 1. 0. 1. 0. 1. 0. 1. 0.]\n",
            " [0. 0. 0. 0. 1. 1. 0. 0. 0.]\n",
            " [0. 0. 0. 0. 0. 1. 0. 1. 1.]\n",
            " [0. 0. 0. 0. 0. 1. 0. 1. 0.]\n",
            " [1. 1. 0. 1. 1. 1. 1. 1. 1.]\n",
            " [0. 0. 0. 0. 0. 1. 0. 1. 1.]]\n",
            "Degree matrix: [[4. 0. 0. 0. 0. 0. 0. 0. 0.]\n",
            " [0. 5. 0. 0. 0. 0. 0. 0. 0.]\n",
            " [0. 0. 2. 0. 0. 0. 0. 0. 0.]\n",
            " [0. 0. 0. 4. 0. 0. 0. 0. 0.]\n",
            " [0. 0. 0. 0. 2. 0. 0. 0. 0.]\n",
            " [0. 0. 0. 0. 0. 3. 0. 0. 0.]\n",
            " [0. 0. 0. 0. 0. 0. 2. 0. 0.]\n",
            " [0. 0. 0. 0. 0. 0. 0. 8. 0.]\n",
            " [0. 0. 0. 0. 0. 0. 0. 0. 3.]]\n",
            "Laplacian matrix: [[ 3.  0.  0.  0.  0. -1.  0. -1. -1.]\n",
            " [ 0.  4.  0. -1. -1. -1.  0. -1.  0.]\n",
            " [-1.  0.  2.  0.  0.  0.  0. -1.  0.]\n",
            " [ 0. -1.  0.  3.  0. -1.  0. -1.  0.]\n",
            " [ 0.  0.  0.  0.  1. -1.  0.  0.  0.]\n",
            " [ 0.  0.  0.  0.  0.  2.  0. -1. -1.]\n",
            " [ 0.  0.  0.  0.  0. -1.  2. -1.  0.]\n",
            " [-1. -1.  0. -1. -1. -1. -1.  7. -1.]\n",
            " [ 0.  0.  0.  0.  0. -1.  0. -1.  2.]]\n",
            "Symmetrically normalised Adjacency matrix: tensor([[ 0.7500,  0.0000,  0.0000,  0.0000,  0.0000, -0.2887,  0.0000, -0.1768,\n",
            "         -0.2887],\n",
            "        [ 0.0000,  0.8000,  0.0000, -0.2236, -0.3162, -0.2582,  0.0000, -0.1581,\n",
            "          0.0000],\n",
            "        [-0.3536,  0.0000,  1.0000,  0.0000,  0.0000,  0.0000,  0.0000, -0.2500,\n",
            "          0.0000],\n",
            "        [ 0.0000, -0.2236,  0.0000,  0.7500,  0.0000, -0.2887,  0.0000, -0.1768,\n",
            "          0.0000],\n",
            "        [ 0.0000,  0.0000,  0.0000,  0.0000,  0.5000, -0.4082,  0.0000,  0.0000,\n",
            "          0.0000],\n",
            "        [ 0.0000,  0.0000,  0.0000,  0.0000,  0.0000,  0.6667,  0.0000, -0.2041,\n",
            "         -0.3333],\n",
            "        [ 0.0000,  0.0000,  0.0000,  0.0000,  0.0000, -0.4082,  1.0000, -0.2500,\n",
            "          0.0000],\n",
            "        [-0.1768, -0.1581,  0.0000, -0.1768, -0.2500, -0.2041, -0.2500,  0.8750,\n",
            "         -0.2041],\n",
            "        [ 0.0000,  0.0000,  0.0000,  0.0000,  0.0000, -0.3333,  0.0000, -0.2041,\n",
            "          0.6667]])\n",
            "************* Event Predictor ***************\n",
            "Train size: 7348, Validation size:1837, Test size: 4525\n",
            "EventPredictor(\n",
            "  (layer1): GCNConv()\n",
            "  (layer2): Sequential(\n",
            "    (0): Dropout(p=0.5, inplace=False)\n",
            "    (1): Linear(in_features=9, out_features=256, bias=True)\n",
            "    (2): Tanh()\n",
            "    (3): Linear(in_features=256, out_features=256, bias=True)\n",
            "    (4): Tanh()\n",
            "    (5): Dropout(p=0.5, inplace=False)\n",
            "    (6): Linear(in_features=256, out_features=10, bias=True)\n",
            "  )\n",
            ")\n"
          ],
          "name": "stdout"
        }
      ]
    },
    {
      "cell_type": "markdown",
      "metadata": {
        "id": "PdGDSmmyYtg_",
        "colab_type": "text"
      },
      "source": [
        "# Training the model "
      ]
    },
    {
      "cell_type": "code",
      "metadata": {
        "id": "UIatIuLiFnwK",
        "colab_type": "code",
        "colab": {}
      },
      "source": [
        "model = model.to(device)\n",
        "adj = adj.to(device)\n",
        "epochs_plt = []\n",
        "acc_plt = []\n",
        "loss_plt = []\n",
        "valid_loss_plt = []\n",
        "\n",
        "for epoch in range(num_epochs):\n",
        "    \n",
        "    model.train()\n",
        "    num_train = 0\n",
        "    training_loss = 0\n",
        "    predictions, actuals = list(),list()\n",
        "\n",
        "    for i, (inputs,targets) in enumerate(train_dl):\n",
        "\n",
        "      inputs,targets = inputs.to(device), targets.to(device)\n",
        "      optimizer.zero_grad() # Clearing the gradients\n",
        "     \n",
        "      yhat = model(inputs[0],adj)\n",
        "      \n",
        "      loss = criterion(yhat.reshape((1,-1)),targets[0].to(torch.long))\n",
        "      loss.backward()\n",
        "      optimizer.step()\n",
        "\n",
        "      training_loss+= loss.item()\n",
        "\n",
        "      yhat = yhat.to('cpu')\n",
        "      yhat = torch.argmax(yhat)\n",
        "      actual = targets.to('cpu')\n",
        "      actual = actual[0]\n",
        "      predictions.append(yhat)\n",
        "      actuals.append(actual)\n",
        "      num_train+=1\n",
        "\n",
        "    with torch.no_grad():\n",
        "      model.eval()\n",
        "      num_valid = 0\n",
        "      validation_loss = 0\n",
        "      for i,(inputs,targets) in enumerate(valid_dl):\n",
        "        inputs,targets = inputs.to(device),targets.to(device)\n",
        "        yhat_valid = model(inputs[0],adj)\n",
        "        loss_valid = criterion(yhat_valid.reshape((1,-1)),targets[0].to(torch.long))\n",
        "        validation_loss+= loss_valid.item()\n",
        "        num_valid+= 1\n",
        "\n",
        "    acc = accuracy_score(actuals, predictions)\n",
        "    avg_training_loss = training_loss/num_train\n",
        "    avg_validation_loss = validation_loss/num_valid\n",
        "\n",
        "    if (epoch==0): \n",
        "      best_loss = avg_validation_loss\n",
        "      torch.save(model.state_dict(),'EventPredictor_parameters.pt')\n",
        "    \n",
        "    if (avg_validation_loss < best_loss):\n",
        "      torch.save(model.state_dict(),'EventPredictor_parameters.pt')\n",
        "      best_loss = avg_validation_loss\n",
        "      \n",
        "    print(\"Epoch: {}, Loss: {}, Accuracy: {}, Validation loss : {}\".format(epoch,avg_training_loss,acc, avg_validation_loss))\n",
        "    epochs_plt.append(epoch+1)\n",
        "    acc_plt.append(acc)\n",
        "    loss_plt.append(avg_training_loss)\n",
        "    valid_loss_plt.append(avg_validation_loss)"
      ],
      "execution_count": null,
      "outputs": []
    },
    {
      "cell_type": "code",
      "metadata": {
        "id": "WmwWxuaXVloN",
        "colab_type": "code",
        "colab": {}
      },
      "source": [
        "model.load_state_dict(torch.load('EventPredictor_parameters.pt'))"
      ],
      "execution_count": null,
      "outputs": []
    },
    {
      "cell_type": "code",
      "metadata": {
        "id": "WS6PICHVS8Dc",
        "colab_type": "code",
        "colab": {}
      },
      "source": [
        "torch.save(model.state_dict(),'{}/EventPredictor_parameters_{}_{}.pt'.format(save_folder,variant,lr_value))"
      ],
      "execution_count": null,
      "outputs": []
    },
    {
      "cell_type": "code",
      "metadata": {
        "id": "RlUy4UdMTEkb",
        "colab_type": "code",
        "colab": {}
      },
      "source": [
        "filepath = '{}/Accuracy_{}_{}.txt'.format(save_folder,variant,lr_value)\n",
        "\n",
        "with open(filepath, 'w') as file:\n",
        "    for item in zip(epochs_plt,acc_plt,loss_plt,valid_loss_plt):\n",
        "        file.write(\"{}\\n\".format(item))"
      ],
      "execution_count": null,
      "outputs": []
    },
    {
      "cell_type": "code",
      "metadata": {
        "id": "GnoOWGiZgDCT",
        "colab_type": "code",
        "colab": {}
      },
      "source": [
        ""
      ],
      "execution_count": null,
      "outputs": []
    }
  ]
}